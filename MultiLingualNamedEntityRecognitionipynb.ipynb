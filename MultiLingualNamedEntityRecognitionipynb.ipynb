{
  "nbformat": 4,
  "nbformat_minor": 0,
  "metadata": {
    "colab": {
      "name": "MultiLingualNamedEntityRecognitionipynb",
      "provenance": [],
      "collapsed_sections": [],
      "authorship_tag": "ABX9TyNZg9YTYW+dWNng/Gbzfmv7",
      "include_colab_link": true
    },
    "kernelspec": {
      "name": "python3",
      "display_name": "Python 3"
    },
    "language_info": {
      "name": "python"
    }
  },
  "cells": [
    {
      "cell_type": "markdown",
      "metadata": {
        "id": "view-in-github",
        "colab_type": "text"
      },
      "source": [
        "<a href=\"https://colab.research.google.com/github/Damilola-ops/MultiLingual-Named-Entity-Recognition-/blob/main/MultiLingualNamedEntityRecognitionipynb.ipynb\" target=\"_parent\"><img src=\"https://colab.research.google.com/assets/colab-badge.svg\" alt=\"Open In Colab\"/></a>"
      ]
    },
    {
      "cell_type": "code",
      "execution_count": null,
      "metadata": {
        "id": "lEUoSNaHCrUU"
      },
      "outputs": [],
      "source": [
        "pip install huggingface-hub\n",
        "pip install datasets\n",
        "pip install transformers\n",
        "pip install seqeval\n"
      ]
    },
    {
      "cell_type": "code",
      "source": [
        "from datasets import get_dataset_config_names"
      ],
      "metadata": {
        "id": "cIjBnaiTD8Lr"
      },
      "execution_count": null,
      "outputs": []
    },
    {
      "cell_type": "code",
      "source": [
        "from collections import defaultdict\n",
        "from datasets import DatasetDict"
      ],
      "metadata": {
        "id": "-cEyo3S0EIQz"
      },
      "execution_count": null,
      "outputs": []
    },
    {
      "cell_type": "code",
      "source": [
        "xtreme_subsets = get_dataset_config_names('xtreme')\n",
        "print(f'XTREME has {len(xtreme_subsets)} configurations')\n",
        "x_subsets = [s for s in xtreme_subsets if s.startswith('PAN')]\n",
        "panx_subsets[:3]"
      ],
      "metadata": {
        "id": "gyjfxCN5EzTV"
      },
      "execution_count": null,
      "outputs": []
    },
    {
      "cell_type": "code",
      "source": [
        ""
      ],
      "metadata": {
        "id": "0C2XP1RCEy5v"
      },
      "execution_count": null,
      "outputs": []
    },
    {
      "cell_type": "code",
      "source": [
        "languages = ['de','fr','it','en']\n",
        "fracs = [0.629,0.229,0.084,0.059]\n",
        "panx_ch = defaultdict(DatasetDict)\n",
        "\n",
        "for lang,frac in zip(languages,fracs):\n",
        "    ds = load_dataset('xtreme',name=f'PAN-X.{lang}')\n",
        "    for split in ds:\n",
        "        panx_ch[lang][split] = (\n",
        "            ds[split].shuffle(seed=0).select(range(int(frac*ds[split].num_rows)))\n",
        "            \n",
        "            \n",
        "    \n",
        "        )"
      ],
      "metadata": {
        "id": "PG8OGZVhEIOk"
      },
      "execution_count": null,
      "outputs": []
    },
    {
      "cell_type": "code",
      "source": [
        "pd.DataFrame({lang:[panx_ch[lang]['train'].num_rows] for lang in languages},\n",
        "             index=['Number of training examples'])"
      ],
      "metadata": {
        "id": "N_7FOgMaEIM9"
      },
      "execution_count": null,
      "outputs": []
    },
    {
      "cell_type": "code",
      "source": [
        "mport torch.nn\n",
        "from transformers import XLMRobertaConfig\n",
        "from transformers.modeling_outputs import TokenClassifierOutput\n",
        "from transformers.models.roberta.modeling_roberta import RobertaModel\n",
        "from transformers.models.roberta.modeling_roberta import RobertaPreTrainedModel"
      ],
      "metadata": {
        "id": "x_-gBIJqEILB"
      },
      "execution_count": null,
      "outputs": []
    },
    {
      "cell_type": "code",
      "source": [
        "from transformers import AutoTokenizer \n",
        "bert = 'bert-base-uncased'\n",
        "xlmr_model_name = 'xlm-roberta-base'\n",
        "bert_tokenizer = AutoTokenizer.from_pretrained(bert)\n",
        "xlmr_tokenizer = AutoTokenizer.from_pretrained(xlmr_model_name)"
      ],
      "metadata": {
        "id": "Bbw8plP5EIIh"
      },
      "execution_count": null,
      "outputs": []
    },
    {
      "cell_type": "code",
      "source": [
        ""
      ],
      "metadata": {
        "id": "f0LtXBmfEIGh"
      },
      "execution_count": null,
      "outputs": []
    },
    {
      "cell_type": "code",
      "source": [
        ""
      ],
      "metadata": {
        "id": "kxfSI_oGEIEr"
      },
      "execution_count": null,
      "outputs": []
    },
    {
      "cell_type": "code",
      "source": [
        ""
      ],
      "metadata": {
        "id": "l2SQgVmlEICk"
      },
      "execution_count": null,
      "outputs": []
    },
    {
      "cell_type": "code",
      "source": [
        ""
      ],
      "metadata": {
        "id": "JarRd4jgEIAp"
      },
      "execution_count": null,
      "outputs": []
    },
    {
      "cell_type": "code",
      "source": [
        "    \n",
        "    def __init__(self,config):\n",
        "        super().__init__(config)\n",
        "        self.num_labels = config.num_labels\n",
        "        #model body \n",
        "        self.roberta = RobertaModel(config,add_pooling_layer=False)\n",
        "        #token classification head\n",
        "        self.dropout = nn.Dropout(config.hidden_dropout_prob)\n",
        "        self.classifier = nn.Linear(config.hidden_size,config.num_labels)\n",
        "        self.init_weights()\n",
        "    \n",
        "    def forward(self,input_ids=None,attention_mask=None,token_type_ids=None,labels=None,**kwargs):\n",
        "        #use model body to get encoder representations \n",
        "        outputs = self.roberta(input_ids,attention_mask=attention_mask,token_type_ids=token_type_ids,**kwargs)\n",
        "        #apply classifier to encode representation \n",
        "        sequence_outputs = self.dropout(outputs[0])\n",
        "        logits = self.classifier(sequence_outputs)\n",
        "        #calculate losses \n",
        "        loss = None\n",
        "        if labels is not None :\n",
        "            loss_fct = nn.CrossEntropyLoss()\n",
        "            loss = loss_fct(logits.view(-1,self.num_labels),labels.view(-1))\n",
        "        return TokenClassifierOutput(loss=loss,logits=logits,hidden_states=outputs.hidden_states,\n",
        "                                    attentions=outputs.attentions)\n",
        "    \n",
        "        "
      ],
      "metadata": {
        "id": "7Qxv-U7AC4Mf"
      },
      "execution_count": null,
      "outputs": []
    },
    {
      "cell_type": "code",
      "source": [
        ""
      ],
      "metadata": {
        "id": "vxwKhYEgEA74"
      },
      "execution_count": null,
      "outputs": []
    },
    {
      "cell_type": "code",
      "source": [
        ""
      ],
      "metadata": {
        "id": "nlKTK56cD7--"
      },
      "execution_count": null,
      "outputs": []
    }
  ]
}